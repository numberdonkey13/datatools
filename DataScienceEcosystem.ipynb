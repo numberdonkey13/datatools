{
 "cells": [
  {
   "cell_type": "markdown",
   "id": "f9e616bc",
   "metadata": {},
   "source": [
    "# Data Science Tools and Ecosystem"
   ]
  },
  {
   "cell_type": "markdown",
   "id": "e5b5f70f",
   "metadata": {},
   "source": [
    "In this notebook, Data Science Tools and Ecosystem are summarized."
   ]
  },
  {
   "cell_type": "markdown",
   "id": "164f8458",
   "metadata": {},
   "source": [
    "**Objectives:**\n",
    "\n",
    "- Describe components of DS toolkit\n",
    "- List examokes of open source and cloud based tools\n",
    "- Work with Juoyter Architecture\n",
    "- Understand R and GitHub\n",
    "- Demonstrate familitarity through Hands on Labs"
   ]
  },
  {
   "cell_type": "markdown",
   "id": "7ae3bfcb",
   "metadata": {},
   "source": [
    "Some of the popular languages that Data Scientists use are:\n",
    "\n",
    "1. R\n",
    "2. Python\n",
    "3. SQL"
   ]
  },
  {
   "cell_type": "markdown",
   "id": "4c03bb3d",
   "metadata": {},
   "source": [
    "Some of the commonly used libraries used by Data Scientists include:\n",
    "\n",
    "1. ggplot\n",
    "2. plotly\n",
    "3. pandas\n",
    "4. SciPy\n",
    "5. scikit-learn\n",
    "6. NumPy\n",
    "7. Tensor Flow\n",
    "8. MatPlotLib"
   ]
  },
  {
   "cell_type": "markdown",
   "id": "112dfa11",
   "metadata": {},
   "source": [
    "| Data Science Tools |\n",
    "|------------------|\n",
    "| RStudio |\n",
    "| Jupyter Notebooks |\n",
    "| Anaconda |\n",
    "| Google CoLab |\n",
    "| GitHub |\n"
   ]
  },
  {
   "cell_type": "markdown",
   "id": "82d95a4d",
   "metadata": {},
   "source": [
    "### Below are a few examples of evaluating arithmetic expressions in Python\n"
   ]
  },
  {
   "cell_type": "code",
   "execution_count": 1,
   "id": "064083d1",
   "metadata": {},
   "outputs": [
    {
     "data": {
      "text/plain": [
       "17"
      ]
     },
     "execution_count": 1,
     "metadata": {},
     "output_type": "execute_result"
    }
   ],
   "source": [
    "# This a simple arithmetic expression to mutiply then add integers\n",
    "(3*4)+5"
   ]
  },
  {
   "cell_type": "code",
   "execution_count": 2,
   "id": "dc5c45b4",
   "metadata": {},
   "outputs": [
    {
     "data": {
      "text/plain": [
       "3.3333333333333335"
      ]
     },
     "execution_count": 2,
     "metadata": {},
     "output_type": "execute_result"
    }
   ],
   "source": [
    "#This will convert 200 minutes to hours by diving by 60\n",
    "200/60"
   ]
  },
  {
   "cell_type": "markdown",
   "id": "767937b5",
   "metadata": {},
   "source": [
    "## Author\n",
    "Joseph Boone"
   ]
  },
  {
   "cell_type": "code",
   "execution_count": null,
   "id": "a2382925",
   "metadata": {},
   "outputs": [],
   "source": []
  }
 ],
 "metadata": {
  "kernelspec": {
   "display_name": "Python 3 (ipykernel)",
   "language": "python",
   "name": "python3"
  },
  "language_info": {
   "codemirror_mode": {
    "name": "ipython",
    "version": 3
   },
   "file_extension": ".py",
   "mimetype": "text/x-python",
   "name": "python",
   "nbconvert_exporter": "python",
   "pygments_lexer": "ipython3",
   "version": "3.11.5"
  }
 },
 "nbformat": 4,
 "nbformat_minor": 5
}
