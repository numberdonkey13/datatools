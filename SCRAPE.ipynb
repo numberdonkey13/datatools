{
 "cells": [
  {
   "cell_type": "code",
   "execution_count": null,
   "id": "7a97fb6c-efbe-4f92-b79a-97818210550e",
   "metadata": {},
   "outputs": [],
   "source": [
    "!pip install yfinance==0.2.4\n",
    "#!pip install pandas==1.3.3"
   ]
  },
  {
   "cell_type": "code",
   "execution_count": null,
   "id": "1098aa3b-1f75-46fb-ba9c-60e80b9073e9",
   "metadata": {
    "tags": []
   },
   "outputs": [],
   "source": [
    "import pandas as pd"
   ]
  },
  {
   "cell_type": "code",
   "execution_count": null,
   "id": "72cab7e4-d5f1-4b11-aa13-86499b984596",
   "metadata": {
    "tags": []
   },
   "outputs": [],
   "source": [
    "import yfinance as yf"
   ]
  },
  {
   "cell_type": "code",
   "execution_count": null,
   "id": "4bb213f3-bba2-4337-88b7-9604f3e11ffb",
   "metadata": {},
   "outputs": [],
   "source": [
    "import requests"
   ]
  },
  {
   "cell_type": "code",
   "execution_count": null,
   "id": "35b79dbf-ff5c-4d83-8106-0b8d0068723f",
   "metadata": {},
   "outputs": [],
   "source": [
    "import json\n",
    "with open('apple.json') as json_file:\n",
    "    apple_info = json.load(json_file)\n",
    "    # Print the type of data variable    \n",
    "    #print(\"Type:\", type(apple_info))\n",
    "apple_info"
   ]
  },
  {
   "cell_type": "markdown",
   "id": "88a1a033-1dc9-4eb9-b237-5b6d965fa8f9",
   "metadata": {},
   "source": [
    "BeautifulSoup"
   ]
  },
  {
   "cell_type": "code",
   "execution_count": null,
   "id": "48bedd78-8fd2-4ed3-b9dc-3fb3be0409b3",
   "metadata": {},
   "outputs": [],
   "source": [
    "html="
   ]
  },
  {
   "cell_type": "code",
   "execution_count": null,
   "id": "e2bb752d-d99e-4edf-a6a5-daefa667b36c",
   "metadata": {},
   "outputs": [],
   "source": [
    "data  = requests.get(url).text "
   ]
  },
  {
   "cell_type": "code",
   "execution_count": null,
   "id": "5ea07f24-2a06-45de-8163-3e8a549857ac",
   "metadata": {},
   "outputs": [],
   "source": [
    "table_bs = BeautifulSoup(table, \"html.parser\")"
   ]
  },
  {
   "cell_type": "code",
   "execution_count": null,
   "id": "847b49b4-cd07-4c22-849d-0cf9ba8aa9c7",
   "metadata": {},
   "outputs": [],
   "source": [
    "soup = BeautifulSoup(html, \"html.parser\")"
   ]
  },
  {
   "cell_type": "code",
   "execution_count": null,
   "id": "e8c9868f-3afd-488c-a69d-56aed23bbda3",
   "metadata": {
    "tags": []
   },
   "outputs": [],
   "source": [
    "print(soup.prettify())"
   ]
  },
  {
   "cell_type": "markdown",
   "id": "398f075f-aaba-428f-bda2-d61f8412fa0d",
   "metadata": {
    "tags": []
   },
   "source": [
    "Tag"
   ]
  },
  {
   "cell_type": "code",
   "execution_count": null,
   "id": "364f660a-1c7a-4ae2-aacb-020c80f23a6c",
   "metadata": {},
   "outputs": [],
   "source": [
    "tag_object=soup.title\n",
    "print(\"tag object:\",tag_object)"
   ]
  },
  {
   "cell_type": "code",
   "execution_count": null,
   "id": "4cb351d0-a5c5-4b6d-ba2b-8b6cfd822d69",
   "metadata": {},
   "outputs": [],
   "source": [
    "tag_object=soup.h3\n",
    "tag_object"
   ]
  },
  {
   "cell_type": "code",
   "execution_count": null,
   "id": "9e3e70c6-2eb0-4e2d-be4c-83b3b1ea2d22",
   "metadata": {},
   "outputs": [],
   "source": [
    "tag_object.parent"
   ]
  },
  {
   "cell_type": "code",
   "execution_count": null,
   "id": "8f20cca0-730d-4928-b6ec-46f7d8adfd30",
   "metadata": {},
   "outputs": [],
   "source": [
    "sibling_1=tag_object.next_sibling"
   ]
  },
  {
   "cell_type": "code",
   "execution_count": null,
   "id": "3a24df1c-2672-4d91-b6a9-14d2974a9ec2",
   "metadata": {},
   "outputs": [],
   "source": [
    "tag_child['id']"
   ]
  },
  {
   "cell_type": "code",
   "execution_count": null,
   "id": "adba22e3-e001-49d0-89db-23295743baba",
   "metadata": {},
   "outputs": [],
   "source": [
    "tag_child.attrs"
   ]
  },
  {
   "cell_type": "code",
   "execution_count": null,
   "id": "409b12c0-00d1-4a61-8194-3d9283606e12",
   "metadata": {},
   "outputs": [],
   "source": [
    "soup.find(\"head\")"
   ]
  },
  {
   "cell_type": "code",
   "execution_count": null,
   "id": "3128166b-e56b-4bb3-b0d3-c2d47897a2c7",
   "metadata": {},
   "outputs": [],
   "source": [
    "soup.head"
   ]
  },
  {
   "cell_type": "code",
   "execution_count": null,
   "id": "2e302410-33cd-4525-8835-23854dc7e288",
   "metadata": {},
   "outputs": [],
   "source": [
    "soup.find_all('a')"
   ]
  },
  {
   "cell_type": "code",
   "execution_count": null,
   "id": "9610f7c3-e2e5-4c0d-8e49-2dae91e597a4",
   "metadata": {},
   "outputs": [],
   "source": [
    "soup.find_all(\"title\")"
   ]
  },
  {
   "cell_type": "code",
   "execution_count": null,
   "id": "1eaccd88-a6b5-4f30-8fc5-89c9ee378401",
   "metadata": {},
   "outputs": [],
   "source": [
    "soup.find_all(\"a\")\n",
    "soup(\"a\")"
   ]
  },
  {
   "cell_type": "code",
   "execution_count": null,
   "id": "aa5e3f6e-3cb1-4d3f-aca9-1dac8901a4e5",
   "metadata": {},
   "outputs": [],
   "source": [
    "table_bs = BeautifulSoup(table, \"html.parser\")"
   ]
  },
  {
   "cell_type": "code",
   "execution_count": null,
   "id": "cca1d241-e701-4616-a280-d28f9bae9b7d",
   "metadata": {},
   "outputs": [],
   "source": [
    "for i,row in enumerate(table_rows):\n",
    "    print(\"row\",i,\"is\",row)"
   ]
  },
  {
   "cell_type": "code",
   "execution_count": null,
   "id": "bc551daa-0799-4331-a1a9-12493aba4620",
   "metadata": {},
   "outputs": [],
   "source": [
    "for i,row in enumerate(table_rows):\n",
    "    print(\"row\",i)\n",
    "    cells=row.find_all('td')\n",
    "    for j,cell in enumerate(cells):\n",
    "        print('colunm',j,\"cell\",cell)"
   ]
  },
  {
   "cell_type": "code",
   "execution_count": null,
   "id": "ad8e323f-5837-428f-97e8-143899ee472c",
   "metadata": {},
   "outputs": [],
   "source": [
    "table_bs.find_all(id=\"flight\")"
   ]
  },
  {
   "cell_type": "code",
   "execution_count": null,
   "id": "e4b9c806-b71d-4133-a86a-aab63da0c963",
   "metadata": {},
   "outputs": [],
   "source": [
    "list_input=table_bs .find_all(name=[\"tr\", \"td\"])\n",
    "list_input"
   ]
  },
  {
   "cell_type": "code",
   "execution_count": null,
   "id": "b5f2f0cc-42fd-42de-8794-ea6504ca73fb",
   "metadata": {},
   "outputs": [],
   "source": [
    "for link in soup.find_all('a',href=True):  # in html anchor/link is represented by the tag <a>\n",
    "\n",
    "    print(link.get('href'))"
   ]
  },
  {
   "cell_type": "code",
   "execution_count": null,
   "id": "497de82a-adcd-4bd3-8479-55c261495959",
   "metadata": {},
   "outputs": [],
   "source": [
    "for row in table.find_all('tr'): # in html table row is represented by the tag <tr>\n",
    "    # Get all columns in each row.\n",
    "    cols = row.find_all('td') # in html a column is represented by the tag <td>\n",
    "    color_name = cols[2].string # store the value in column 3 as color_name\n",
    "    color_code = cols[3].string # store the value in column 4 as color_code\n",
    "    print(\"{}--->{}\".format(color_name,color_code))"
   ]
  },
  {
   "cell_type": "code",
   "execution_count": null,
   "id": "2b4baf0a-c6b7-4125-a93c-31229ac69bdf",
   "metadata": {},
   "outputs": [],
   "source": [
    "pd.read_html(str(tables[5]), flavor='bs4')"
   ]
  },
  {
   "cell_type": "code",
   "execution_count": null,
   "id": "624c462b-3332-4b77-b0db-508e5075591a",
   "metadata": {},
   "outputs": [],
   "source": [
    "population_data_read_html = pd.read_html(str(tables[5]), flavor='bs4')[0]\n"
   ]
  },
  {
   "cell_type": "code",
   "execution_count": null,
   "id": "6e5b244e-224d-4687-8d26-419206f477ea",
   "metadata": {},
   "outputs": [],
   "source": [
    "pd.read_html(url, match=\"10 most densely populated countries\", flavor='bs4')[0]"
   ]
  },
  {
   "cell_type": "code",
   "execution_count": null,
   "id": "f4eefe07-731e-4f14-b425-7e17133f617f",
   "metadata": {},
   "outputs": [],
   "source": [
    "population_data = pd.DataFrame(columns=[\"Rank\", \"Country\", \"Population\", \"Area\", \"Density\"])"
   ]
  },
  {
   "cell_type": "markdown",
   "id": "83c73c04-9835-4de0-b15f-a8f45429f8a3",
   "metadata": {},
   "source": [
    "ticker"
   ]
  },
  {
   "cell_type": "code",
   "execution_count": null,
   "id": "f04c46d8-be92-4d32-9473-aa3d75e38bd8",
   "metadata": {},
   "outputs": [],
   "source": [
    "apple = yf.Ticker(\"AAPL\")"
   ]
  },
  {
   "cell_type": "code",
   "execution_count": null,
   "id": "bb648a05-8a3e-4bfe-afd4-bbef0db84559",
   "metadata": {},
   "outputs": [],
   "source": [
    "!wget https://cf-courses-data.s3.us.cloud-object-storage.appdomain.cloud/IBMDeveloperSkillsNetwork-PY0220EN-SkillsNetwork/data/amd.json"
   ]
  },
  {
   "cell_type": "code",
   "execution_count": null,
   "id": "9553c56d-d6a9-4598-bdd4-393d86653894",
   "metadata": {},
   "outputs": [],
   "source": [
    "apple_info['country']\n"
   ]
  },
  {
   "cell_type": "code",
   "execution_count": null,
   "id": "1efbccf7-4208-405d-8146-b49a3175c82a",
   "metadata": {},
   "outputs": [],
   "source": [
    "apple_share_price_data = apple.history(period=\"max\")"
   ]
  },
  {
   "cell_type": "code",
   "execution_count": null,
   "id": "f1e675da-b788-4bce-b2c4-97fdcd4036c3",
   "metadata": {},
   "outputs": [],
   "source": [
    "apple_share_price_data.reset_index(inplace=True)"
   ]
  },
  {
   "cell_type": "code",
   "execution_count": null,
   "id": "b0f3c28e-f90d-4853-8e68-a322b432376d",
   "metadata": {},
   "outputs": [],
   "source": [
    "for row in soup.find(\"tbody\").find_all('tr'):\n",
    "    col = row.find_all(\"td\")\n",
    "    date = col[0].text\n",
    "    Open = col[1].text\n",
    "    high = col[2].text\n",
    "    low = col[3].text\n",
    "    close = col[4].text\n",
    "    adj_close = col[5].text\n",
    "    volume = col[6].text\n",
    "    \n",
    "    # Finally we append the data of each row to the table\n",
    "    netflix_data = netflix_data.append({\"Date\":date, \"Open\":Open, \"High\":high, \"Low\":low, \"Close\":close, \"Adj Close\":adj_close, \"Volume\":volume}, ignore_index=True)    "
   ]
  },
  {
   "cell_type": "markdown",
   "id": "3630f6f4-e012-40e1-a25a-f9d1072c640c",
   "metadata": {},
   "source": [
    "Set url: url =\n",
    "Get request: requests.get(url).text\n",
    "Parse in bs4: soup = BeautifulSoup(data, 'html5lib')\n",
    "DataFrame: df = pd.DataFrame(columns=[\"Date\", \"Open\"])\n",
    "\n"
   ]
  },
  {
   "cell_type": "markdown",
   "id": "8a040f08-2dbb-42ec-99d3-0161ecdb544c",
   "metadata": {},
   "source": [
    "Pandas Extraction"
   ]
  },
  {
   "cell_type": "code",
   "execution_count": null,
   "id": "b4d52202-d8ea-42d4-be03-d97f26ed0505",
   "metadata": {},
   "outputs": [],
   "source": [
    "read_html_pandas_data = pd.read_html(url)"
   ]
  },
  {
   "cell_type": "code",
   "execution_count": null,
   "id": "79799780-c282-4a94-87a3-722f9dab6487",
   "metadata": {},
   "outputs": [],
   "source": [
    "read_html_pandas_data = pd.read_html(str(soup))"
   ]
  },
  {
   "cell_type": "code",
   "execution_count": null,
   "id": "7150e622-bfe0-428d-8c38-23d1ba07b665",
   "metadata": {},
   "outputs": [],
   "source": [
    "tesla_revenue=pd.DataFrame(columns=['Date','Revenue'])\n",
    "for row in beautiful_soup.find('tbody').find_all('tr'):\n",
    "    col=row.find_all(\"td\")\n",
    "    date=col[0].text\n",
    "    revenue=col[1].text\n",
    "    tesla_revenue=tesla_revenue.append({\"Date\":date,\"Revenue\":revenue},ignore_index=True)\n",
    "    \n",
    "tesla_revenue.head()"
   ]
  }
 ],
 "metadata": {
  "kernelspec": {
   "display_name": "anaconda-panel-2023.05-py310",
   "language": "python",
   "name": "conda-env-anaconda-panel-2023.05-py310-py"
  },
  "language_info": {
   "codemirror_mode": {
    "name": "ipython",
    "version": 3
   },
   "file_extension": ".py",
   "mimetype": "text/x-python",
   "name": "python",
   "nbconvert_exporter": "python",
   "pygments_lexer": "ipython3",
   "version": "3.11.5"
  }
 },
 "nbformat": 4,
 "nbformat_minor": 5
}
